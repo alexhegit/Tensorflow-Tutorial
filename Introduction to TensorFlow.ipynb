{
 "cells": [
  {
   "cell_type": "markdown",
   "metadata": {},
   "source": [
    "# Introduction to TensorFlow\n",
    "--------\n",
    " * What is Tensorflow ?\n",
    " * What is Tensor ?\n",
    " * Computational graph\n",
    " * Variable\n",
    " * Placeholder\n",
    " * Operation"
   ]
  },
  {
   "cell_type": "markdown",
   "metadata": {},
   "source": [
    "### 1. What is Tensorflow ?\n",
    "   TensorFlow is open source Machine Learning library introduced by Google in 2015. Initially it was made for Google internal use by Google Brain team but in 2015 it has made open source. It is a high performance computation library and heavily used by the developers and researchers throughout the world.It has very flexible architecture which allows easy deployment of computation across a variety of platforms CPUs, GPUs, TPUs and from desktops to clusters of servers to mobile and edge devices.<br>\n",
    "   It is written in python ,c++ and cuda that is why its numerical computation is fast."
   ]
  },
  {
   "cell_type": "markdown",
   "metadata": {},
   "source": [
    "### 2. What is Tensor ?"
   ]
  },
  {
   "cell_type": "markdown",
   "metadata": {},
   "source": [
    "Tensorflow uses Tensor to make its computational graph.Only tensors are passed between operations in the computation graph. You can think of a TensorFlow tensor as an n-dimensional array or list.\n",
    "![](Tensor.jpeg)"
   ]
  },
  {
   "cell_type": "markdown",
   "metadata": {},
   "source": [
    "### 3. Computational Graph"
   ]
  },
  {
   "cell_type": "markdown",
   "metadata": {},
   "source": [
    "Tensorflow uses computational graph to executes its operation.To execute these operations as computations, we must launch the Graph into a Session. The session translates and passes the operations represented into the graphs to the device you want to execute them on GPU or CPU.<br>\n",
    "For example, the image below represents a graph in TensorFlow. a and b can be any number/array/matrix/tensors over the edges of this graph. Add(+) is an operation over the variables a  and b, after that Add is called and multiply the result of the previous operator with 3. The resultant of each operation across the next one until the end where it's possible to get the wanted result.\n",
    "![](cg.png)\n"
   ]
  },
  {
   "cell_type": "markdown",
   "metadata": {},
   "source": [
    "Now the question arises how to create a computational graph/ dataflow graph in tensorflow?"
   ]
  },
  {
   "cell_type": "markdown",
   "metadata": {},
   "source": [
    "   **Think of the simple python script** <br>\n",
    "   If i ask you store two numbers in variables 'a' and 'b', then add these number and store it into variable 'c'. Now multiply 'c' with any number m and store it in 'd'. Then print 'd'.This is same as described in the above image.\n",
    "   "
   ]
  },
  {
   "cell_type": "code",
   "execution_count": 2,
   "metadata": {},
   "outputs": [
    {
     "name": "stdout",
     "output_type": "stream",
     "text": [
      "14\n"
     ]
    }
   ],
   "source": [
    "a=3\n",
    "b=4\n",
    "c= a+b\n",
    "d= c*3\n",
    "print(d)"
   ]
  },
  {
   "cell_type": "markdown",
   "metadata": {},
   "source": [
    "This can be done in Tensorflow with computational graph as follows -\n",
    "  * First import the Tensorflow\n",
    "  * Store the values in different variables\n",
    "  * Initialised the session() to execute the graph \n",
    "  * Execute the graph <br>\n",
    "**Note :** Want to know more about Session and dataflow graph click on this [link](https://medium.com/coinmonks/tensorflow-graphs-and-sessions-c7fa116209db)"
   ]
  },
  {
   "cell_type": "code",
   "execution_count": 4,
   "metadata": {},
   "outputs": [],
   "source": [
    "import tensorflow as tf"
   ]
  },
  {
   "cell_type": "markdown",
   "metadata": {},
   "source": [
    "tf.constant is used to initialised any variable with constant number."
   ]
  },
  {
   "cell_type": "code",
   "execution_count": 32,
   "metadata": {},
   "outputs": [],
   "source": [
    "a=tf.constant(3)   # a=3\n",
    "b=tf.constant(4)   # b=4\n",
    "c=tf.add(a,b)      # c= a+b\n",
    "d=c*3              # d= c*3"
   ]
  },
  {
   "cell_type": "markdown",
   "metadata": {},
   "source": [
    "Then Tensorflow needs to initialize a session to run the code. Session is a way to create computational graph"
   ]
  },
  {
   "cell_type": "code",
   "execution_count": 33,
   "metadata": {},
   "outputs": [],
   "source": [
    "### Initialising session\n",
    "sess = tf.Session() "
   ]
  },
  {
   "cell_type": "markdown",
   "metadata": {},
   "source": [
    "Now run the Session() to get the result from dataflow graph"
   ]
  },
  {
   "cell_type": "code",
   "execution_count": 34,
   "metadata": {},
   "outputs": [
    {
     "name": "stdout",
     "output_type": "stream",
     "text": [
      "21\n"
     ]
    }
   ],
   "source": [
    "result = sess.run(d)\n",
    "print(result)"
   ]
  },
  {
   "cell_type": "markdown",
   "metadata": {},
   "source": [
    "Then close the Session to release the all resourses."
   ]
  },
  {
   "cell_type": "code",
   "execution_count": 35,
   "metadata": {},
   "outputs": [],
   "source": [
    "sess.close()"
   ]
  },
  {
   "cell_type": "markdown",
   "metadata": {},
   "source": [
    "This looks a tedious to close the session every time, so here is another way. Initialize session a __with__ block then i will automatically closed you dont need to close it."
   ]
  },
  {
   "cell_type": "code",
   "execution_count": 39,
   "metadata": {},
   "outputs": [
    {
     "name": "stdout",
     "output_type": "stream",
     "text": [
      "21\n"
     ]
    }
   ],
   "source": [
    "with tf.Session() as sess:\n",
    "    result=sess.run(d)\n",
    "    print(result)"
   ]
  },
  {
   "cell_type": "markdown",
   "metadata": {},
   "source": [
    "#### Types of Tensors :\n",
    "* Scalar( Any number)\n",
    "* Vector(Any 1D array)\n",
    "* Matrix(Any 2D array)\n",
    "* Multi-dimensional array"
   ]
  },
  {
   "cell_type": "code",
   "execution_count": 42,
   "metadata": {},
   "outputs": [],
   "source": [
    "# Scalar\n",
    "A=tf.constant(5)\n",
    "# Vector\n",
    "B=tf.constant([1,2,3,4])\n",
    "# Matrix \n",
    "C=tf.constant([[1,2,3],[4,5,6],[7,8,9]])\n",
    "# Multi-dimensional array\n",
    "D=tf.constant([[[1,2,3],[2,3,4],[3,4,5]],[[4,5,6],[5,6,7],[6,7,8]],[[7,8,9],[8,9,10],[9,10,11]]])"
   ]
  },
  {
   "cell_type": "code",
   "execution_count": 44,
   "metadata": {},
   "outputs": [
    {
     "name": "stdout",
     "output_type": "stream",
     "text": [
      "Types of Tensors\n",
      "Scalar :\n",
      "  5\n",
      "Vector : \n",
      " [1 2 3 4]\n",
      "Matrix :\n",
      "  [[1 2 3]\n",
      " [4 5 6]\n",
      " [7 8 9]]\n",
      "Multi-dimensional array :\n",
      "  [[[ 1  2  3]\n",
      "  [ 2  3  4]\n",
      "  [ 3  4  5]]\n",
      "\n",
      " [[ 4  5  6]\n",
      "  [ 5  6  7]\n",
      "  [ 6  7  8]]\n",
      "\n",
      " [[ 7  8  9]\n",
      "  [ 8  9 10]\n",
      "  [ 9 10 11]]]\n"
     ]
    }
   ],
   "source": [
    "print(\"Types of Tensors\")\n",
    "with tf.Session() as sess:\n",
    "    result=sess.run(A)\n",
    "    print(\"Scalar :\\n \",result)\n",
    "    result=sess.run(B)\n",
    "    print(\"Vector : \\n\",result)\n",
    "    result=sess.run(C)\n",
    "    print(\"Matrix :\\n \",result)\n",
    "    result=sess.run(D)\n",
    "    print(\"Multi-dimensional array :\\n \",result)"
   ]
  },
  {
   "cell_type": "markdown",
   "metadata": {},
   "source": [
    "### 4. Variables"
   ]
  },
  {
   "cell_type": "markdown",
   "metadata": {},
   "source": [
    "Now that we are more familiar with the structure of data, we will take a look at how TensorFlow handles variables.\n",
    "\n",
    "To define variables we use the command __tf.variable()__. To be able to use variables in a computation graph it is necessary to initialize them before running the graph in a session. This is done by running __tf.global_variables_initializer()__.\n",
    "\n",
    "To update the value of a variable, we simply run an assign operation that assigns a value to the variable:"
   ]
  },
  {
   "cell_type": "code",
   "execution_count": 54,
   "metadata": {},
   "outputs": [],
   "source": [
    "var = tf.Variable(0)"
   ]
  },
  {
   "cell_type": "markdown",
   "metadata": {},
   "source": [
    "Let's first create a simple counter, a variable that increases one unit at a time:"
   ]
  },
  {
   "cell_type": "code",
   "execution_count": 55,
   "metadata": {},
   "outputs": [],
   "source": [
    "i = tf.constant(1)\n",
    "new_var = tf.add(var,i)\n",
    "update = tf.assign(var, new_var)"
   ]
  },
  {
   "cell_type": "markdown",
   "metadata": {},
   "source": [
    "We must be initialised the variable before running the session. Then we first add the initialisation operation to the graph."
   ]
  },
  {
   "cell_type": "code",
   "execution_count": 57,
   "metadata": {},
   "outputs": [],
   "source": [
    "init_var = tf.global_variables_initializer()"
   ]
  },
  {
   "cell_type": "markdown",
   "metadata": {},
   "source": [
    "We then start a session to run the graph, first initialize the variables, then print the initial value of the __var__ variable, and then run the operation of updating the __var__ variable and printing the result after each update:"
   ]
  },
  {
   "cell_type": "code",
   "execution_count": 62,
   "metadata": {},
   "outputs": [
    {
     "name": "stdout",
     "output_type": "stream",
     "text": [
      "Initial var :\n",
      " 0\n",
      "Printing after updating var in each iteration : \n",
      "1\n",
      "2\n",
      "3\n",
      "4\n",
      "5\n"
     ]
    }
   ],
   "source": [
    "with tf.Session() as sess:\n",
    "    sess.run(init_var)\n",
    "    print(\"Initial var :\\n\",sess.run(var))\n",
    "    print(\"Printing after updating var in each iteration : \")\n",
    "    for _ in range(5):\n",
    "        sess.run(update)\n",
    "        print(sess.run(var))"
   ]
  },
  {
   "cell_type": "markdown",
   "metadata": {},
   "source": [
    "### 5. Placeholders"
   ]
  },
  {
   "cell_type": "markdown",
   "metadata": {},
   "source": [
    "Now we know how to manipulate variables inside TensorFlow, but what about feeding data outside of a TensorFlow model? \n",
    "\n",
    "If you want to feed data to a TensorFlow model from outside a model, you will need to use placeholders.\n",
    "\n",
    "So what are these placeholders and what do they do? \n",
    "\n",
    "Placeholders can be seen as \"holes\" in your model, \"holes\" which you will pass the data to, you can create them using <br/> <b>tf.placeholder(_datatype_)</b>, where <b>_datatype_</b> specifies the type of data (integers, floating points, strings, booleans) along with its precision (8, 16, 32, 64) bits.\n",
    "\n",
    "The definition of each data type with the respective python sintax is defined as: <br>\n",
    "![](datatype.png)\n",
    "<br>\n",
    "**Let's create a placeholder ,**"
   ]
  },
  {
   "cell_type": "code",
   "execution_count": 63,
   "metadata": {},
   "outputs": [],
   "source": [
    "a = tf.placeholder(tf.float32)"
   ]
  },
  {
   "cell_type": "markdown",
   "metadata": {},
   "source": [
    "**And define a simple multiplication operation:**"
   ]
  },
  {
   "cell_type": "code",
   "execution_count": 64,
   "metadata": {},
   "outputs": [],
   "source": [
    "b = a*2"
   ]
  },
  {
   "cell_type": "markdown",
   "metadata": {},
   "source": [
    "Now we need to define and run the session, but since we created a \"hole\" in the model to pass the data, when we initialize the session we are obligated to pass an argument with the data, otherwise we would get an error.\n",
    "\n",
    "To pass the data to the model we call the session with an extra argument <b> feed_dict</b> in which we should pass a dictionary with each placeholder name folowed by its respective data, just like this:"
   ]
  },
  {
   "cell_type": "code",
   "execution_count": 65,
   "metadata": {},
   "outputs": [
    {
     "name": "stdout",
     "output_type": "stream",
     "text": [
      "7.0\n"
     ]
    }
   ],
   "source": [
    "with tf.Session() as sess:\n",
    "    result = sess.run(b,feed_dict={a:3.5})\n",
    "    print (result)"
   ]
  },
  {
   "cell_type": "markdown",
   "metadata": {},
   "source": [
    "Since data in TensorFlow is passed in form of multidimensional arrays we can pass any kind of tensor through the placeholders to get the answer to the simple multiplication operation:"
   ]
  },
  {
   "cell_type": "code",
   "execution_count": 66,
   "metadata": {},
   "outputs": [
    {
     "name": "stdout",
     "output_type": "stream",
     "text": [
      "[[[ 2.  4.  6.]\n",
      "  [ 8. 10. 12.]\n",
      "  [14. 16. 18.]\n",
      "  [20. 22. 24.]]\n",
      "\n",
      " [[26. 28. 30.]\n",
      "  [32. 34. 36.]\n",
      "  [38. 40. 42.]\n",
      "  [44. 46. 48.]]]\n"
     ]
    }
   ],
   "source": [
    "dictionary={a: [ [ [1,2,3],[4,5,6],[7,8,9],[10,11,12] ] , [ [13,14,15],[16,17,18],[19,20,21],[22,23,24] ] ] }\n",
    "\n",
    "with tf.Session() as sess:\n",
    "    result = sess.run(b,feed_dict=dictionary)\n",
    "    print (result)"
   ]
  },
  {
   "cell_type": "markdown",
   "metadata": {},
   "source": [
    "Now you can observe that Tensor in the disctionary is get multiplied by 2.In the same way what ever Tensor you put in the disctionary it be multiplied by 2 in this case."
   ]
  },
  {
   "cell_type": "markdown",
   "metadata": {},
   "source": [
    "### 6. Operations "
   ]
  },
  {
   "cell_type": "markdown",
   "metadata": {},
   "source": [
    "Operations are nodes that represent the mathematical operations over the tensors on a graph. These operations can be any kind of functions, like add and subtract tensor or maybe an activation function.\n",
    "\n",
    "_tf.matmul_, _tf.add_, _tf.nn.sigmoid_ are some of the operations in TensorFlow. These are like functions in python but operate directly over tensors and each one does a specific thing. \n",
    "<div class=\"alert alert-success alertsuccess\" style=\"margin-top: 20px\">Other operations can be easily found in: https://www.tensorflow.org/versions/r0.9/api_docs/python/index.html</div>\n",
    "<br>\n",
    "Few examples are as follows:\n",
    "<br>\n",
    "#### tf.add(), tf.matmul() and tf.subtract()\n",
    "* tf.add() is always used to add two tensors of same dimensions.\n",
    "* tf.matmul() is always used to multiply two square matrix of same dimensions.\n",
    "* tf.subtract is used to subtract two Tensors."
   ]
  },
  {
   "cell_type": "code",
   "execution_count": 67,
   "metadata": {},
   "outputs": [
    {
     "name": "stdout",
     "output_type": "stream",
     "text": [
      "Addition result : \n",
      " [[4 4]\n",
      " [4 4]]\n",
      "Subtraction result : \n",
      " [[-2  0]\n",
      " [-2  0]]\n",
      "Multiplication result : \n",
      "  [[9 6]\n",
      " [9 6]]\n"
     ]
    }
   ],
   "source": [
    "A=tf.constant([[1,2],[1,2]])\n",
    "B=tf.constant([[3,2],[3,2]])\n",
    "addition=tf.add(A,B)\n",
    "subtraction=tf.subtract(A,B)\n",
    "multiplication=tf.matmul(A,B)\n",
    "with tf.Session() as sess:\n",
    "    result=sess.run(addition)\n",
    "    print(\"Addition result : \\n\",result)\n",
    "    result=sess.run(subtraction)\n",
    "    print(\"Subtraction result : \\n\",result)\n",
    "    result=sess.run(multiplication)\n",
    "    print(\"Multiplication result : \\n \",result)\n",
    "    "
   ]
  },
  {
   "cell_type": "markdown",
   "metadata": {},
   "source": [
    "### Conclusion "
   ]
  },
  {
   "cell_type": "markdown",
   "metadata": {},
   "source": [
    "Now you have a much better understanding of tensors, the types of data that fit in them and how handle various tensors operations using dataflow/computation graph. In the next blog i will talk about how we can apply these concept to make our Machine Learning or Deep Learning models."
   ]
  },
  {
   "cell_type": "code",
   "execution_count": null,
   "metadata": {},
   "outputs": [],
   "source": []
  }
 ],
 "metadata": {
  "kernelspec": {
   "display_name": "Python 3",
   "language": "python",
   "name": "python3"
  },
  "language_info": {
   "codemirror_mode": {
    "name": "ipython",
    "version": 3
   },
   "file_extension": ".py",
   "mimetype": "text/x-python",
   "name": "python",
   "nbconvert_exporter": "python",
   "pygments_lexer": "ipython3",
   "version": "3.6.4"
  }
 },
 "nbformat": 4,
 "nbformat_minor": 2
}
