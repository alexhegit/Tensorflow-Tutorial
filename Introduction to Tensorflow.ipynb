{
 "cells": [
  {
   "cell_type": "markdown",
   "metadata": {},
   "source": [
    "# Introduction to Tensorflow\n",
    "----\n",
    "#### What is Tensoflow ?\n",
    "  Tensorflow is the open sourse deep learning library contributed by Google . It is a high performation numerical computation library. Its flexible architecture allows easy deployment of computation across a variety of platforms CPUs, GPUs, TPUs, and from desktops to clusters of servers to mobile and edge devices.\n",
    "  If you are a data science enthusiast\n",
    "#### Why Tensorflow is so popular ? \n",
    "  "
   ]
  },
  {
   "cell_type": "code",
   "execution_count": null,
   "metadata": {},
   "outputs": [],
   "source": []
  }
 ],
 "metadata": {
  "kernelspec": {
   "display_name": "Python 3",
   "language": "python",
   "name": "python3"
  },
  "language_info": {
   "codemirror_mode": {
    "name": "ipython",
    "version": 3
   },
   "file_extension": ".py",
   "mimetype": "text/x-python",
   "name": "python",
   "nbconvert_exporter": "python",
   "pygments_lexer": "ipython3",
   "version": "3.6.4"
  }
 },
 "nbformat": 4,
 "nbformat_minor": 2
}
